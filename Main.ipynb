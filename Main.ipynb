{
 "cells": [
  {
   "cell_type": "markdown",
   "metadata": {},
   "source": [
    "_____________________ LEARNING FROM NETWORK PROJECT _____________________\n"
   ]
  },
  {
   "cell_type": "markdown",
   "metadata": {},
   "source": [
    "_____________________ PART 1 : NETWORK GENERATION _______________________\n",
    "\n",
    "1) Import all necessary packages \n",
    "2) Generate an edge list of the graph network, using the generation algorithm"
   ]
  },
  {
   "cell_type": "raw",
   "metadata": {},
   "source": [
    "from NetworkManager import NetworkManager"
   ]
  },
  {
   "cell_type": "raw",
   "metadata": {},
   "source": [
    "NM = NetworkManager()\n",
    "NM.featGenerator('0r1S7BCoaU5uGAgAWptbl9', 'Ski & Wok',1)\n",
    "# NM.featGenerator(\"4CuMwzDzEdlUJMEna38VQ0\", \"Dark Polo Gang\",1)"
   ]
  }
 ],
 "metadata": {
  "language_info": {}
 },
 "nbformat": 4,
 "nbformat_minor": 4
}