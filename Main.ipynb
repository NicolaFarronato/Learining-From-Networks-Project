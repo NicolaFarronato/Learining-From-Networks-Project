{
 "cells": [
  {
   "cell_type": "markdown",
   "metadata": {},
   "source": [
    "<h1>LEARNING FROM NETWORK PROJECT</h1>"
   ]
  },
  {
   "cell_type": "markdown",
   "metadata": {},
   "source": [
    "<h2>Part 1: Network Generation</h2> "
   ]
  },
  {
   "cell_type": "markdown",
   "metadata": {},
   "source": [
    "Import necessary packages and create an instance of the class"
   ]
  },
  {
   "cell_type": "code",
   "execution_count": null,
   "metadata": {},
   "outputs": [],
   "source": [
    "from NetworkManager import NetworkManager\n",
    "NM = NetworkManager()"
   ]
  },
  {
   "cell_type": "markdown",
   "metadata": {},
   "source": [
    "Create the edges list using the <i>featGenerator</i> method  (may take a while)"
   ]
  },
  {
   "cell_type": "code",
   "execution_count": null,
   "metadata": {},
   "outputs": [],
   "source": [
    "NM.featGenerator(\"2eZZVwzCJsugkoiKUlMls9\", \"Kayne West\",2)"
   ]
  },
  {
   "cell_type": "markdown",
   "metadata": {},
   "source": [
    "Generate and print the output graph"
   ]
  },
  {
   "cell_type": "code",
   "execution_count": null,
   "metadata": {},
   "outputs": [],
   "source": [
    "NM.buildGraphNetwork()\n",
    "NM.plotGraph(False)"
   ]
  },
  {
   "cell_type": "markdown",
   "metadata": {},
   "source": [
    "Save the current graph to a .txt file"
   ]
  },
  {
   "cell_type": "code",
   "execution_count": null,
   "metadata": {},
   "outputs": [],
   "source": [
    "save_path = '/Users/nicolafarronato/Documents/GitHub/Learining-From-Networks/Graphs/fsk_2.txt'\n",
    "NM.writeNetwork(save_path)"
   ]
  },
  {
   "cell_type": "markdown",
   "metadata": {},
   "source": [
    "<h2>Part 2: Graph Features Extraction</h2> "
   ]
  },
  {
   "cell_type": "markdown",
   "metadata": {},
   "source": [
    "Load a edge list and build a graph (if needed)"
   ]
  },
  {
   "cell_type": "code",
   "execution_count": null,
   "metadata": {},
   "outputs": [],
   "source": [
    "edge_list_path = '/Users/nicolafarronato/Documents/GitHub/Learining-From-Networks/Graphs/dpg_3.txt'\n",
    "NM.buildNetworkFromTxt(edge_list_path)\n",
    "graph = NM.Graph_network\n",
    "#NM.plotGraph(False)"
   ]
  },
  {
   "cell_type": "markdown",
   "metadata": {},
   "source": [
    "<h3>Extraxt Features</h3>"
   ]
  },
  {
   "cell_type": "markdown",
   "metadata": {},
   "source": [
    "Popularity Score"
   ]
  },
  {
   "cell_type": "code",
   "execution_count": null,
   "metadata": {},
   "outputs": [],
   "source": [
    "popularities = NM.getPopularityScores()"
   ]
  },
  {
   "cell_type": "markdown",
   "metadata": {},
   "source": [
    "Number of followers"
   ]
  },
  {
   "cell_type": "code",
   "execution_count": null,
   "metadata": {},
   "outputs": [],
   "source": [
    "followers = NM.getFollowersNumber()"
   ]
  },
  {
   "cell_type": "markdown",
   "metadata": {},
   "source": [
    "Graph nodes features"
   ]
  },
  {
   "cell_type": "code",
   "execution_count": null,
   "metadata": {},
   "outputs": [],
   "source": [
    "import networkx as nx\n",
    "\n",
    "pagerank = list(nx.pagerank(graph).values())\n",
    "closeness_centralities = list(nx.closeness_centrality(graph).values())\n",
    "betweenness_centralities = list(nx.betweenness_centrality(graph).values())\n",
    "degree_centralities = list(nx.degree_centrality(graph).values())"
   ]
  },
  {
   "cell_type": "markdown",
   "metadata": {},
   "source": [
    "<h3>CSV creation</h3>"
   ]
  },
  {
   "cell_type": "markdown",
   "metadata": {},
   "source": [
    "Load Packages and create an instance of the class"
   ]
  },
  {
   "cell_type": "code",
   "execution_count": null,
   "metadata": {},
   "outputs": [],
   "source": [
    "from ArtistFeatures import ArtistFeatures\n",
    "AF = ArtistFeatures(graph)"
   ]
  },
  {
   "cell_type": "markdown",
   "metadata": {},
   "source": [
    "Add all the features "
   ]
  },
  {
   "cell_type": "code",
   "execution_count": null,
   "metadata": {},
   "outputs": [],
   "source": [
    "popularities_normalized = newList = [x / 100.0 for x in popularities]\n",
    "followers_normalized = newList = [x / max(followers) for x in followers]\n",
    "AF.add_Feature('Popularities',popularities_normalized)\n",
    "AF.add_Feature('Followers',followers_normalized)\n",
    "\n",
    "AF.add_Feature('Page_rank',pagerank)\n",
    "AF.add_Feature('Closeness_centralities',closeness_centralities)\n",
    "AF.add_Feature('Degree_centralities',degree_centralities)\n",
    "AF.add_Feature('Betweenness_centralities',betweenness_centralities)"
   ]
  },
  {
   "cell_type": "markdown",
   "metadata": {},
   "source": [
    "Save the csv"
   ]
  },
  {
   "cell_type": "code",
   "execution_count": null,
   "metadata": {},
   "outputs": [],
   "source": [
    "save_path_csv = ''\n",
    "AF.create_csv(save_path_csv)"
   ]
  }
 ],
 "metadata": {
  "interpreter": {
   "hash": "b4ef9dde2fac0743e98a99859453392d7c3ad2d1585e9d0f04cd34574a900ba4"
  },
  "kernelspec": {
   "display_name": "Python 3.8.3 64-bit ('base': conda)",
   "language": "python",
   "name": "python3"
  },
  "language_info": {
   "codemirror_mode": {
    "name": "ipython",
    "version": 3
   },
   "file_extension": ".py",
   "mimetype": "text/x-python",
   "name": "python",
   "nbconvert_exporter": "python",
   "pygments_lexer": "ipython3",
   "version": "3.8.3"
  },
  "orig_nbformat": 4
 },
 "nbformat": 4,
 "nbformat_minor": 2
}
